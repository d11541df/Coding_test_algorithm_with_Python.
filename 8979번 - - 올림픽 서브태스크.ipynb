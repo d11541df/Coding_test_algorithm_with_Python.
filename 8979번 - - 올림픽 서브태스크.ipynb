{
 "cells": [
  {
   "cell_type": "markdown",
   "id": "75016e7c-a308-4ca1-89ce-c9e15f85bb18",
   "metadata": {},
   "source": [
    "올림픽은 참가에 의의가 있기에 공식적으로는 국가간 순위를 정하지 않는다. 그러나, 많은 사람들이 자신의 국가가 얼마나 잘 하는지에 관심이 많기 때문에 비공식적으로는 국가간 순위를 정하고 있다. 두 나라가 각각 얻은 금, 은, 동메달 수가 주어지면, 보통 다음 규칙을 따라 어느 나라가 더 잘했는지 결정한다.\n",
    "\n",
    "금메달 수가 더 많은 나라 \n",
    "금메달 수가 같으면, 은메달 수가 더 많은 나라\n",
    "금, 은메달 수가 모두 같으면, 동메달 수가 더 많은 나라 \n",
    "각 국가는 1부터 N 사이의 정수로 표현된다. 한 국가의 등수는 (자신보다 더 잘한 나라 수) + 1로 정의된다. 만약 두 나라가 금, 은, 동메달 수가 모두 같다면 두 나라의 등수는 같다. 예를 들어, 1번 국가가 금메달 1개, 은메달 1개를 얻었고, 2번 국가와 3번 국가가 모두 은메달 1개를 얻었으며, 4번 국가는 메달을 얻지 못하였다면, 1번 국가가 1등, 2번 국가와 3번 국가가 공동 2등, 4번 국가가 4등이 된다. 이 경우 3등은 없다. \n",
    "\n",
    "각 국가의 금, 은, 동메달 정보를 입력받아서, 어느 국가가 몇 등을 했는지 알려주는 프로그램을 작성하시오. \n",
    "\n",
    "입력\n",
    "입력의 첫 줄은 국가의 수 N(1 ≤ N ≤ 1,000)과 등수를 알고 싶은 국가 K(1 ≤ K ≤ N)가 빈칸을 사이에 두고 주어진다. 각 국가는 1부터 N 사이의 정수로 표현된다. 이후 N개의 각 줄에는 차례대로 각 국가를 나타내는 정수와 이 국가가 얻은 금, 은, 동메달의 수가 빈칸을 사이에 두고 주어진다. 전체 메달 수의 총합은 1,000,000 이하이다.\n",
    "\n",
    "출력\n",
    "출력은 단 한 줄이며, 입력받은 국가 K의 등수를 하나의 정수로 출력한다. 등수는 반드시 문제에서 정의된 방식을 따라야 한다. \n",
    "\n",
    "서브태스크\n",
    "번호\t배점\t제한\n",
    "1\t8\t\n",
    "예제 입력, 출력\n",
    "\n",
    "2\t12\t\n",
    "N = 2\n",
    "\n",
    "3\t20\t\n",
    "모든 국가의 은메달 및 동메달 획득 수는 0\n",
    "\n",
    "4\t25\t\n",
    "N ≤ 500\n",
    "\n",
    "5\t35\t\n",
    "추가적인 제약 조건은 없다.\n",
    "\n",
    "예제 입력 1 \n",
    "4 3\n",
    "1 1 2 0\n",
    "2 0 1 0\n",
    "3 0 1 0\n",
    "4 0 0 1\n",
    "예제 출력 1 \n",
    "2\n",
    "예제 입력 2 \n",
    "4 2\n",
    "1 3 0 0\n",
    "3 0 0 2\n",
    "4 0 2 0\n",
    "2 0 2 0\n",
    "예제 출력 2 \n",
    "2\n"
   ]
  },
  {
   "cell_type": "code",
   "execution_count": 53,
   "id": "b661c60d-9d58-45db-b879-08163e88a2ce",
   "metadata": {
    "tags": []
   },
   "outputs": [
    {
     "name": "stdin",
     "output_type": "stream",
     "text": [
      " 4 3\n",
      " 1 1 2 0\n",
      " 2 0 1 0\n",
      " 3 0 1 0\n",
      " 4 0 0 1\n"
     ]
    }
   ],
   "source": [
    "a, b = list(map(int, input().split()))\n",
    "\n",
    "num_list = []\n",
    "for i in range(a):\n",
    "    num_input = list(map(int,input().split()))\n",
    "    num_list.append(num_input)"
   ]
  },
  {
   "cell_type": "code",
   "execution_count": 54,
   "id": "7814a17c-04e4-4e43-9ffe-5fb02ca30943",
   "metadata": {
    "tags": []
   },
   "outputs": [
    {
     "name": "stdout",
     "output_type": "stream",
     "text": [
      "[[1, 1, 2, 0], [2, 0, 1, 0], [4, 0, 0, 1], [3, 0, 1, 0]]\n"
     ]
    }
   ],
   "source": [
    "for passnum in range(len(num_list)-1, 0, -1):\n",
    "    for i in range(1, passnum):\n",
    "        if num_list[i][passnum] < num_list[i+1][passnum]:\n",
    "            num_list[i], num_list[i+1] = num_list[i+1], num_list[i]\n",
    "            \n",
    "\n",
    "print(num_list)\n"
   ]
  },
  {
   "cell_type": "code",
   "execution_count": 51,
   "id": "a9e3c83a-6e27-42b2-96b8-065c45566553",
   "metadata": {
    "tags": []
   },
   "outputs": [
    {
     "data": {
      "text/plain": [
       "[[1, 1, 2, 0], [2, 0, 1, 0], [4, 0, 0, 1], [3, 0, 1, 0]]"
      ]
     },
     "execution_count": 51,
     "metadata": {},
     "output_type": "execute_result"
    }
   ],
   "source": [
    "num_list"
   ]
  },
  {
   "cell_type": "code",
   "execution_count": null,
   "id": "d1e6f820-12a4-4e05-a512-218d52181bae",
   "metadata": {},
   "outputs": [],
   "source": []
  }
 ],
 "metadata": {
  "kernelspec": {
   "display_name": "Python 3 (ipykernel)",
   "language": "python",
   "name": "python3"
  },
  "language_info": {
   "codemirror_mode": {
    "name": "ipython",
    "version": 3
   },
   "file_extension": ".py",
   "mimetype": "text/x-python",
   "name": "python",
   "nbconvert_exporter": "python",
   "pygments_lexer": "ipython3",
   "version": "3.11.5"
  }
 },
 "nbformat": 4,
 "nbformat_minor": 5
}
