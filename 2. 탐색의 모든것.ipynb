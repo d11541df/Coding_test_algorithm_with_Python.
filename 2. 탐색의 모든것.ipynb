{
 "cells": [
  {
   "cell_type": "markdown",
   "id": "b30af132-8635-46ca-9524-dbdd86c5c09e",
   "metadata": {},
   "source": [
    "\n",
    "# 깊이 우선 탐색 (DFS, Depth-First Search)\n",
    "* DFS는 그래프의 깊은 부분을 우선적으로 탐색하는 알고리즘입니다. 스택(또는 재귀 함수)을 사용하여 구현할 수 있으며, 모든 노드를 방문하고자 할 때 사용됩니다. 그래프의 깊이를 우선적으로 탐색하기 때문에 가능한 한 멀리 있는 노드를 우선적으로 방문합니다."
   ]
  },
  {
   "cell_type": "code",
   "execution_count": 1,
   "id": "b872ee0d-ed6f-45d4-b29f-7d3fa34b7438",
   "metadata": {
    "tags": []
   },
   "outputs": [
    {
     "name": "stdout",
     "output_type": "stream",
     "text": [
      "A\n",
      "B\n",
      "D\n",
      "E\n",
      "F\n",
      "C\n"
     ]
    }
   ],
   "source": [
    "# 그래프는 딕셔너리로 표현\n",
    "graph = {\n",
    "    'A': ['B', 'C'],\n",
    "    'B': ['A', 'D', 'E'],\n",
    "    'C': ['A', 'F'],\n",
    "    'D': ['B'],\n",
    "    'E': ['B', 'F'],\n",
    "    'F': ['C', 'E']\n",
    "}\n",
    "\n",
    "visited = set()  # 방문한 노드를 기록\n",
    "\n",
    "def dfs(visited, graph, node):\n",
    "    if node not in visited:\n",
    "        print(node)\n",
    "        visited.add(node)\n",
    "        for neighbour in graph[node]:\n",
    "            dfs(visited, graph, neighbour)\n",
    "\n",
    "# 함수 실행\n",
    "dfs(visited, graph, 'A')\n"
   ]
  },
  {
   "cell_type": "markdown",
   "id": "ed2d328c-6315-4cbd-af7f-863ab810f968",
   "metadata": {},
   "source": [
    "# 너비 우선 탐색 (BFS, Breadth-First Search)\n",
    "* BFS는 가까운 노드부터 탐색하는 알고리즘입니다. 큐를 사용하여 구현하며, 두 노드 사이의 최단 경로나 임의의 경로를 찾고자 할 때 유용합니다. 각 노드를 거리에 따라 순차적으로 탐색합니다."
   ]
  },
  {
   "cell_type": "code",
   "execution_count": 2,
   "id": "1b493a18-deb0-4646-a01a-5cc4e3c45ae8",
   "metadata": {
    "tags": []
   },
   "outputs": [
    {
     "name": "stdout",
     "output_type": "stream",
     "text": [
      "A\n",
      "B\n",
      "C\n",
      "D\n",
      "E\n",
      "F\n"
     ]
    }
   ],
   "source": [
    "from collections import deque\n",
    "\n",
    "# 그래프는 딕셔너리로 표현\n",
    "graph = {\n",
    "    'A': ['B', 'C'],\n",
    "    'B': ['A', 'D', 'E'],\n",
    "    'C': ['A', 'F'],\n",
    "    'D': ['B'],\n",
    "    'E': ['B', 'F'],\n",
    "    'F': ['C', 'E']\n",
    "}\n",
    "\n",
    "def bfs(graph, start_node):\n",
    "    visited = set()\n",
    "    queue = deque([start_node])\n",
    "    \n",
    "    while queue:\n",
    "        node = queue.popleft()\n",
    "        if node not in visited:\n",
    "            print(node)\n",
    "            visited.add(node)\n",
    "            queue.extend([n for n in graph[node] if n not in visited])\n",
    "\n",
    "# 함수 실행\n",
    "bfs(graph, 'A')\n"
   ]
  },
  {
   "cell_type": "markdown",
   "id": "56def7b3-d6b9-46bb-91c9-f8280ebfd16f",
   "metadata": {},
   "source": [
    "* 연습 문제\n",
    "* DFS와 BFS를 연습하기 위한 좋은 문제는 다음과 같습니다.\n",
    "\n",
    "* 백준 1260번: DFS와 BFS - 기본적인 DFS와 BFS를 구현하고, 주어진 그래프를 DFS로 탐색한 결과와 BFS로 탐색한 결과를 출력하는 문제입니다.\n",
    "\n",
    "* 백준 2606번: 바이러스 - 네트워크 상에서 바이러스가 퍼지는 방식을 모델링한 문제로, DFS나 BFS를 사용하여 해결할 수 있습니다.\n",
    "\n",
    "* 백준 1012번: 유기농 배추 - 배추밭에 배추흰지렁이를 최소 몇 마리 배치해야 하는지를 구하는 문제로, 연결 요소를 찾는 문제에 DFS나 BFS를 적용할 수 있습니다.\n",
    "\n",
    "* 각 문제를 풀면서 DFS와 BFS의 구현 방법을 숙지하고, 다양한 그래프에서의 탐색 방법에 대해 익힐 수 있습니다. 문제를 풀어보는 과정에서 그래프의 구조를 이해하고, 알고리즘을 효과적으로 적용하는 능력이 향상됩니다."
   ]
  },
  {
   "cell_type": "code",
   "execution_count": null,
   "id": "1d41ab93-ba67-4c8e-9428-8e503fbbd87b",
   "metadata": {},
   "outputs": [],
   "source": []
  }
 ],
 "metadata": {
  "kernelspec": {
   "display_name": "Python 3 (ipykernel)",
   "language": "python",
   "name": "python3"
  },
  "language_info": {
   "codemirror_mode": {
    "name": "ipython",
    "version": 3
   },
   "file_extension": ".py",
   "mimetype": "text/x-python",
   "name": "python",
   "nbconvert_exporter": "python",
   "pygments_lexer": "ipython3",
   "version": "3.11.5"
  }
 },
 "nbformat": 4,
 "nbformat_minor": 5
}
