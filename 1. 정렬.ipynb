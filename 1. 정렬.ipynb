{
 "cells": [
  {
   "cell_type": "markdown",
   "id": "337031a5-ecca-4ca4-8c6a-24078084469c",
   "metadata": {},
   "source": [
    "# 기본 정렬 - 초급"
   ]
  },
  {
   "cell_type": "markdown",
   "id": "4be00944-9308-491d-aa7f-f1c0658ef2c1",
   "metadata": {
    "tags": []
   },
   "source": [
    "버블 정렬 (Bubble Sort)\n",
    "버블 정렬은 인접한 두 원소를 비교해서, 잘못된 순서(예를 들어, 오름차순 정렬에서 큰 값이 앞에 있는 경우)가 있을 때 그 위치를 바꾸는 방식으로 작동합니다. 이 과정을 배열의 모든 요소가 올바른 순서에 있을 때까지 반복합니다.\n",
    "\n",
    "장점: 구현이 매우 간단하다.\n",
    "단점: 시간 복잡도가 \n",
    "\n",
    "O(n \n",
    "2\n",
    " )로, 데이터 양이 많을 때 비효율적이다.\n",
    "사용 시점: 데이터 양이 매우 적을 때나, 데이터가 거의 정렬된 상태에서 소량의 요소만 정렬할 필요가 있을 때.\n",
    "선택 정렬 (Selection Sort)\n",
    "선택 정렬은 배열 전체에서 최소값(또는 최대값)을 찾아 선택한 다음, 배열의 현재 위치에 있는 요소와 교환하는 방식으로 작동합니다. 이 과정을 배열의 모든 위치에 대해 반복하여 전체 배열을 정렬합니다.\n",
    "\n",
    "장점: 데이터 이동 횟수가 미리 정해져 있어, 교환 작업이 버블 정렬보다 적다.\n",
    "단점: 시간 복잡도가 \n",
    "\n",
    "O(n \n",
    "2\n",
    " )로, 큰 데이터 세트에는 부적합하다.\n",
    "사용 시점: 데이터 양이 적고, 교환 비용이 비싼 경우에 유리할 수 있음.\n",
    "삽입 정렬 (Insertion Sort)\n",
    "삽입 정렬은 각 숫자를 적절한 위치에 삽입하는 방식으로 정렬합니다. 이미 정렬된 배열의 올바른 위치에 현재 요소를 삽입하여, 배열이 점진적으로 정렬되도록 합니다.\n",
    "\n",
    "장점: 구현이 간단하며, 데이터가 거의 정렬된 상태라면 매우 효율적일 수 있다. 또한, 안정적인 정렬 방법이다.\n",
    "단점: 시간 복잡도가 평균과 최악의 경우 \n",
    "\n",
    "O(n \n",
    "2\n",
    " )이지만, 데이터가 거의 정렬된 경우 효율적일 수 있다.\n",
    "사용 시점: 데이터 양이 적거나, 데이터가 거의 정렬된 상태일 때. 실시간으로 데이터가 추가되어 부분적으로 정렬해야 할 때 유용함.\n",
    "어떤 정렬을 사용해야 할까?\n",
    "데이터 크기가 작고 알고리즘의 간단함을 선호한다면 버블 정렬이나 선택 정렬을 고려할 수 있습니다. 버블 정렬은 구현이 가장 쉽지만, 선택 정렬이 조금 더 효율적일 수 있습니다.\n",
    "데이터가 거의 정렬된 상태라면 삽입 정렬이 가장 효율적입니다. 삽입 정렬은 이미 정렬된 데이터에 대해 매우 빠르게 동작합니다.\n",
    "대부분의 실용적인 상황에서는 이러한 기본 정렬 알고리즘보다 더 효율적인 퀵 정렬, 병합 정렬, 힙 정렬 등을 사용하는 것이 좋습니다. 이 알고리즘들은 평균적으로 \n",
    "\n",
    "O(nlogn)의 시간 복잡도를 가지며, 대규모 데이터에 적합합니다."
   ]
  },
  {
   "cell_type": "markdown",
   "id": "7b71be41-7173-4aa8-8e24-b51d3896f271",
   "metadata": {},
   "source": [
    " * 백준 2750번 \"수 정렬하기\""
   ]
  },
  {
   "cell_type": "markdown",
   "id": "ca275c62-9535-4e25-9393-1a823b3c13c8",
   "metadata": {},
   "source": [
    "###  버블정렬"
   ]
  },
  {
   "cell_type": "code",
   "execution_count": 12,
   "id": "b054b3e4-6cd7-413a-856b-49d58c4b236b",
   "metadata": {
    "tags": []
   },
   "outputs": [],
   "source": [
    "list_1 = [1,9,4,3,5,6]"
   ]
  },
  {
   "cell_type": "code",
   "execution_count": 13,
   "id": "923b674e-794c-4dc3-a0d3-17a31f30dc94",
   "metadata": {
    "tags": []
   },
   "outputs": [],
   "source": [
    "def bubble_sort(arr):\n",
    "    n = len(arr)\n",
    "    for i in range(n):\n",
    "        for j in range(0, n-i-1):\n",
    "            if arr[j] > arr[j+1]:\n",
    "                arr[j], arr[j+1] = arr[j+1], arr[j]\n",
    "    return arr"
   ]
  },
  {
   "cell_type": "code",
   "execution_count": 14,
   "id": "76a68adb-da24-422a-928f-b55876ed4646",
   "metadata": {
    "tags": []
   },
   "outputs": [
    {
     "data": {
      "text/plain": [
       "[1, 3, 4, 5, 6, 9]"
      ]
     },
     "execution_count": 14,
     "metadata": {},
     "output_type": "execute_result"
    }
   ],
   "source": [
    "bubble_sort(list_1)"
   ]
  },
  {
   "cell_type": "markdown",
   "id": "918594b4-1ce9-4ec9-86a6-b9c6f8b8e6e8",
   "metadata": {},
   "source": [
    "### 선택정렬"
   ]
  },
  {
   "cell_type": "code",
   "execution_count": 20,
   "id": "50e184d1-2fec-48cc-9633-ce811bf73b29",
   "metadata": {
    "tags": []
   },
   "outputs": [],
   "source": [
    "list_2 = [9,2,4,8,1,7,7,3]"
   ]
  },
  {
   "cell_type": "code",
   "execution_count": 21,
   "id": "205d4e77-7cf3-4199-adf9-a202bf06d379",
   "metadata": {
    "tags": []
   },
   "outputs": [],
   "source": [
    "def selection_sort(arr):\n",
    "    for i in range(len(arr)):\n",
    "        min_idx = i\n",
    "        for j in range(i+1, len(arr)):\n",
    "            if arr[min_idx] > arr[j]:\n",
    "                min_idx = j\n",
    "        arr[i], arr[min_idx] = arr[min_idx], arr[i]\n",
    "    return arr\n"
   ]
  },
  {
   "cell_type": "code",
   "execution_count": 22,
   "id": "2683bda5-2d36-45e8-b16c-5859e5749599",
   "metadata": {
    "tags": []
   },
   "outputs": [
    {
     "data": {
      "text/plain": [
       "[1, 2, 3, 4, 7, 7, 8, 9]"
      ]
     },
     "execution_count": 22,
     "metadata": {},
     "output_type": "execute_result"
    }
   ],
   "source": [
    "selection_sort(list_2)"
   ]
  },
  {
   "cell_type": "markdown",
   "id": "4d77d77f-55c9-4a9c-8ee1-7024f1529553",
   "metadata": {},
   "source": [
    "### 삽입정렬"
   ]
  },
  {
   "cell_type": "code",
   "execution_count": null,
   "id": "b2756d30-34b1-4173-8e69-809b3e2087b8",
   "metadata": {},
   "outputs": [],
   "source": [
    "def insertion_sort(arr):\n",
    "    for i in range(1, len(arr)):\n",
    "        key = arr[i]\n",
    "        j = i-1\n",
    "        while j >=0 and key < arr[j] :\n",
    "                arr[j + 1] = arr[j]\n",
    "                j -= 1\n",
    "        arr[j + 1] = key\n",
    "    return arr\n"
   ]
  },
  {
   "cell_type": "markdown",
   "id": "deee1b91-1415-4878-b602-5331ffc4960e",
   "metadata": {},
   "source": [
    "# 퀵정렬 및 힙정렬 - 고급"
   ]
  },
  {
   "cell_type": "markdown",
   "id": "33d503da-19a4-431d-9b31-708ef33bc3a6",
   "metadata": {
    "tags": []
   },
   "source": [
    "\n",
    "퀵 정렬(Quick Sort), 병합 정렬(Merge Sort), 힙 정렬(Heap Sort)은 효율적인 정렬 알고리즘으로, 크고 복잡한 데이터를 빠르게 정렬할 때 사용됩니다. 이 세 가지 정렬 알고리즘은 다른 메커니즘을 사용하여 데이터를 정렬하며, 각각의 장단점을 가지고 있습니다. 아래에서는 각 정렬 알고리즘의 작동 방식과 Python 예제 코드를 제공하겠습니다."
   ]
  },
  {
   "cell_type": "markdown",
   "id": "5f6605c3-f49c-48ac-8d42-7c4ffe3bd68e",
   "metadata": {},
   "source": [
    "### 1. 퀵 정렬 (Quick Sort)"
   ]
  },
  {
   "cell_type": "markdown",
   "id": "7aba5d9c-a51a-4442-86d1-8f2c1d8bdfaf",
   "metadata": {},
   "source": [
    "* 퀵 정렬은 분할 정복(divide and conquer) 알고리즘의 한 예로, 하나의 피벗(pivot)을 선택하여 피벗보다 작은 요소들은 피벗의 왼쪽으로, 큰 요소들은 오른쪽으로 이동시킨 후, 피벗을 제외한 왼쪽과 오른쪽 리스트에 대해 재귀적으로 동일한 과정을 반복합니다.\n",
    "\n",
    "* 장점: 평균적으로 매우 빠른 성능을 보임 O(nlogn).\n",
    "\n",
    "* 단점: 최악의 경우 O(n2)의 시간 복잡도를 가질 수 있음. 이를 방지하기 위해 피벗 선택 방법을 개선할 수 있음.\n",
    "\n",
    "\n",
    "\n",
    "\n",
    "* 작동 원리:\n",
    "\n",
    "* 배열에서 피벗을 선택합니다.\n",
    "* 피벗보다 작은 요소는 피벗의 왼쪽, 큰 요소는 오른쪽으로 이동합니다.\n",
    "* 분할된 두 부분에 대해 재귀적으로 같은 작업을 반복합니다."
   ]
  },
  {
   "cell_type": "code",
   "execution_count": null,
   "id": "6c4c8bd8-8f90-4eb0-af4a-96ea9a1d1283",
   "metadata": {},
   "outputs": [],
   "source": [
    "arr = [3, 6, 8, 10, 1, 2, 1]"
   ]
  },
  {
   "cell_type": "code",
   "execution_count": null,
   "id": "e12fdc6e-5076-4708-a05b-f183af53e5d4",
   "metadata": {},
   "outputs": [],
   "source": [
    "def quick_sort(arr):\n",
    "    if len(arr) <= 1:\n",
    "        return arr\n",
    "    pivot = arr[len(arr) // 2]\n",
    "    left = [x for x in arr if x < pivot]\n",
    "    middle = [x for x in arr if x == pivot]\n",
    "    right = [x for x in arr if x > pivot]\n",
    "    return quick_sort(left) + middle + quick_sort(right)\n",
    "\n",
    "print(quick_sort(arr))\n"
   ]
  },
  {
   "cell_type": "markdown",
   "id": "02260b09-cdd6-4185-8e5c-780aff6e1ba0",
   "metadata": {},
   "source": [
    "### 2. 병합 정렬 (Merge Sort)"
   ]
  },
  {
   "cell_type": "markdown",
   "id": "4f22561b-045d-434d-b27a-2181bc1fbede",
   "metadata": {},
   "source": [
    "* 병합 정렬 역시 분할 정복 방식을 사용하는 정렬 알고리즘입니다. 리스트를 절반으로 계속해서 나누다가 더 이상 나눌 수 없게 되면, 나누어진 리스트들을 다시 합치면서 정렬하는 방식으로 작동합니다.\n",
    "\n",
    "* 장점: 최악의 경우에도 O(nlogn)의 안정적인 성능.\n",
    "\n",
    "* 단점: 추가적인 메모리 공간을 필요로 함.\n",
    "\n",
    "\n",
    "\n",
    "* 작동 원리:\n",
    "\n",
    "* 배열을 반으로 나눕니다.\n",
    "* 각 부분을 재귀적으로 정렬합니다.\n",
    "* 정렬된 두 배열을 하나로 병합합니다.\n",
    "\n"
   ]
  },
  {
   "cell_type": "code",
   "execution_count": null,
   "id": "6a996bb8-9f5a-4b19-9e79-4d3c5a3ed386",
   "metadata": {},
   "outputs": [],
   "source": [
    "arr = [3, 6, 8, 10, 1, 2, 1]"
   ]
  },
  {
   "cell_type": "code",
   "execution_count": null,
   "id": "f8dfb093-b0ac-4ddc-8091-4b53339a5ede",
   "metadata": {},
   "outputs": [],
   "source": [
    "def merge_sort(arr):\n",
    "    if len(arr) <= 1:\n",
    "        return arr\n",
    "\n",
    "    mid = len(arr) // 2\n",
    "    left = merge_sort(arr[:mid])\n",
    "    right = merge_sort(arr[mid:])\n",
    "\n",
    "    return merge(left, right)\n",
    "\n",
    "def merge(left, right):\n",
    "    result = []\n",
    "    i = j = 0\n",
    "\n",
    "    while i < len(left) and j < len(right):\n",
    "        if left[i] < right[j]:\n",
    "            result.append(left[i])\n",
    "            i += 1\n",
    "        else:\n",
    "            result.append(right[j])\n",
    "            j += 1\n",
    "\n",
    "    result += left[i:]\n",
    "    result += right[j:]\n",
    "\n",
    "    return result\n",
    "\n",
    "print(merge_sort(arr))\n"
   ]
  },
  {
   "cell_type": "markdown",
   "id": "65f00a86-9f80-42ab-a9f6-fd61fa3abed2",
   "metadata": {},
   "source": [
    "### 3. 힙 정렬 (Heap Sort)"
   ]
  },
  {
   "cell_type": "markdown",
   "id": "92a04983-d4f7-40dc-b59f-24dcab30c379",
   "metadata": {},
   "source": [
    "* 힙 정렬은 완전 이진 트리인 힙(heap)의 속성을 사용하는 정렬 방법입니다. 모든 노드가 자식 노드보다 큰 값을 가지는 최대 힙을 구성한 후, 가장 큰 요소(루트)를 배열의 마지막 요소와 교환하고, 힙 크기를 줄여가며 정렬을 진행합니다.\n",
    "\n",
    "* 작동 원리\n",
    "* 힙 구성: 먼저 주어진 배열을 최대 힙이나 최소 힙으로 구성합니다. 보통 최대 힙을 사용하여 오름차순 정렬을 수행합니다.\n",
    "* 힙 정렬: 힙의 루트(최대 값 또는 최소 값)를 배열의 마지막 요소와 교환하고, 힙의 크기를 하나 줄여 이 요소를 제외합니다. 그 다음 수정된 힙을 다시 최대 힙이나 최소 힙으로 구성합니다. 이 과정을 배열이 정렬될 때까지 반복합니다.\n",
    "\n",
    "* 시간 복잡도\n",
    "* 최악, 평균, 최선 시간 복잡도: 모두 O(nlogn) 입니다.힙 구성에는 O(n) 시간이 소요되며, 각 요소를 제거하고 힙을 재구성하는 데 O(logn) 시간이 소요됩니다. 여기서  n은 배열의 길이입니다."
   ]
  },
  {
   "cell_type": "code",
   "execution_count": null,
   "id": "4366a7e7-4362-448c-bdc3-61faa7ca4d7b",
   "metadata": {},
   "outputs": [],
   "source": [
    "arr = [12, 11, 13, 5, 6, 7]"
   ]
  },
  {
   "cell_type": "code",
   "execution_count": null,
   "id": "47471dc8-9083-4920-b67d-7da0c7f8b85f",
   "metadata": {},
   "outputs": [],
   "source": [
    "def heapify(arr, n, i):\n",
    "    largest = i\n",
    "    left = 2 * i + 1\n",
    "    right = 2 * i + 2\n",
    "\n",
    "    if left < n and arr[largest] < arr[left]:\n",
    "        largest = left\n",
    "\n",
    "    if right < n and arr[largest] < arr[right]:\n",
    "        largest = right\n",
    "\n",
    "    if largest != i:\n",
    "        arr[i], arr[largest] = arr[largest], arr[i]  # swap\n",
    "        heapify(arr, n, largest)\n",
    "\n",
    "def heapSort(arr):\n",
    "    n = len(arr)\n",
    "\n",
    "    # Build a maxheap.\n",
    "    for i in range(n // 2 - 1, -1, -1):\n",
    "        heapify(arr, n, i)\n",
    "\n",
    "    # One by one extract elements\n",
    "    for i in range(n-1, 0, -1):\n",
    "        arr[i], arr[0] = arr[0], arr[i]  # swap\n",
    "        heapify(arr, i, 0)\n",
    "\n",
    "# Example usage\n",
    "heapSort(arr)\n",
    "print(\"Sorted array is:\", arr)\n"
   ]
  }
 ],
 "metadata": {
  "kernelspec": {
   "display_name": "Python 3 (ipykernel)",
   "language": "python",
   "name": "python3"
  },
  "language_info": {
   "codemirror_mode": {
    "name": "ipython",
    "version": 3
   },
   "file_extension": ".py",
   "mimetype": "text/x-python",
   "name": "python",
   "nbconvert_exporter": "python",
   "pygments_lexer": "ipython3",
   "version": "3.11.5"
  }
 },
 "nbformat": 4,
 "nbformat_minor": 5
}
